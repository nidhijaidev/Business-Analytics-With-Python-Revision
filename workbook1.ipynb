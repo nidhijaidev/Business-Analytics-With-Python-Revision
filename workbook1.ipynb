{
  "nbformat": 4,
  "nbformat_minor": 0,
  "metadata": {
    "colab": {
      "provenance": []
    },
    "kernelspec": {
      "name": "python3",
      "display_name": "Python 3"
    },
    "language_info": {
      "name": "python"
    }
  },
  "cells": [
    {
      "cell_type": "code",
      "execution_count": 1,
      "metadata": {
        "id": "poHImjtLOpxp"
      },
      "outputs": [],
      "source": [
        "def  NIDHI():\n",
        "  print (\"INDIA IS MY COUNTRY\")"
      ]
    },
    {
      "cell_type": "code",
      "source": [
        "NIDHI()"
      ],
      "metadata": {
        "colab": {
          "base_uri": "https://localhost:8080/"
        },
        "id": "xffHhalzP642",
        "outputId": "b95f02e3-ff5a-457e-824a-0d2f557638bd"
      },
      "execution_count": 2,
      "outputs": [
        {
          "output_type": "stream",
          "name": "stdout",
          "text": [
            "INDIA IS MY COUNTRY\n"
          ]
        }
      ]
    },
    {
      "cell_type": "code",
      "source": [
        "def NIDHI(x):\n",
        "    print(\"Your roll number is \", x)"
      ],
      "metadata": {
        "id": "_ZzVxjmbP_VW"
      },
      "execution_count": 9,
      "outputs": []
    },
    {
      "cell_type": "code",
      "source": [
        "NIDHI(x)"
      ],
      "metadata": {
        "colab": {
          "base_uri": "https://localhost:8080/"
        },
        "id": "Q2-UMOmDQvxy",
        "outputId": "240a76d2-cea0-4b3d-ab53-c81e525e6893"
      },
      "execution_count": 10,
      "outputs": [
        {
          "output_type": "stream",
          "name": "stdout",
          "text": [
            "Your roll number is  10\n"
          ]
        }
      ]
    },
    {
      "cell_type": "code",
      "source": [
        "x=int(input(\"Enter your roll no\"))\n",
        "NIDHI(x)"
      ],
      "metadata": {
        "colab": {
          "base_uri": "https://localhost:8080/"
        },
        "id": "AhTiMeS8Q3S2",
        "outputId": "cbabc536-6590-45de-80a0-b8cfbec1d787"
      },
      "execution_count": 11,
      "outputs": [
        {
          "output_type": "stream",
          "name": "stdout",
          "text": [
            "Enter your roll no10\n",
            "Your roll number is  10\n"
          ]
        }
      ]
    },
    {
      "cell_type": "code",
      "source": [
        "x=input(\"ENTER YOUR NAME : \")\n",
        "y=int(input(\"ENTER YOUR ROLL NO : \"))\n",
        "z=input(\"ENTER YOUR EMAIL : \")\n",
        "a=input(\"ENTER YOUR PLACE : \")\n",
        "\n",
        "def nidhi(x, y, z, a):\n",
        "  print(\"YOUR NAME IS : \" , x )\n",
        "  print(\"YOUR ROLL NO IS : \" , y )\n",
        "  print(\"YOUR EMAIL IS : \" , z )\n",
        "  print(\"YOUR PLAC IS : \" , a )\n",
        "nidhi(x, y, z, a)"
      ],
      "metadata": {
        "colab": {
          "base_uri": "https://localhost:8080/"
        },
        "id": "HWLz_G3TT_Yc",
        "outputId": "0479920b-f619-4f30-cc10-e485e21324ce"
      },
      "execution_count": 20,
      "outputs": [
        {
          "output_type": "stream",
          "name": "stdout",
          "text": [
            "ENTER YOUR NAME : NIDHI\n",
            "ENTER YOUR ROLL NO : 28\n",
            "ENTER YOUR EMAIL : nidhi@gmail.com\n",
            "ENTER YOUR PLACE : ERNAKULAM\n",
            "YOUR NAME IS :  NIDHI\n",
            "YOUR ROLL NO IS :  28\n",
            "YOUR EMAIL IS :  nidhi@gmail.com\n",
            "YOUR PLAC IS :  ERNAKULAM\n"
          ]
        }
      ]
    },
    {
      "cell_type": "code",
      "source": [
        "d = []\n",
        "a=input(\"Enter your name : \")\n",
        "def  First (a):\n",
        "  print(a[0:5])\n",
        "def Second(a):\n",
        "  print(a[6:12])\n",
        "First(x)\n",
        "Second(a)"
      ],
      "metadata": {
        "colab": {
          "base_uri": "https://localhost:8080/"
        },
        "id": "U2r3OdkrWyox",
        "outputId": "aa700f87-6177-4a4b-8210-5b607ecdfbdc"
      },
      "execution_count": 21,
      "outputs": [
        {
          "output_type": "stream",
          "name": "stdout",
          "text": [
            "Enter your name : NIDHI JAIDEV\n",
            "NIDHI\n",
            "JAIDEV\n"
          ]
        }
      ]
    },
    {
      "cell_type": "code",
      "source": [
        "def namex(x):\n",
        "  y=x.split()\n",
        "  print(\"Your 1st name is : \", y[0])\n",
        "  print(\"Your 2nd name is : \", y[1])"
      ],
      "metadata": {
        "id": "5bSgkW0sbk4h"
      },
      "execution_count": 38,
      "outputs": []
    },
    {
      "cell_type": "code",
      "source": [
        "x=input(\"Enter full name : \")\n",
        "namex(x)"
      ],
      "metadata": {
        "colab": {
          "base_uri": "https://localhost:8080/"
        },
        "id": "dPUWSnNTfXYx",
        "outputId": "c6456318-c5cb-4d19-e7bc-727132f02f9f"
      },
      "execution_count": 39,
      "outputs": [
        {
          "output_type": "stream",
          "name": "stdout",
          "text": [
            "Enter full name : nidhi jaidev\n",
            "Your 1st name is :  nidhi\n",
            "Your 2nd name is :  jaidev\n"
          ]
        }
      ]
    },
    {
      "cell_type": "code",
      "source": [
        "d = []\n",
        "a=int(input(\"Enter the first number : \"))\n",
        "b=int(input(\"Enter the second number : \"))\n",
        "def swap(a, b):\n",
        "  print(b, a)"
      ],
      "metadata": {
        "colab": {
          "base_uri": "https://localhost:8080/"
        },
        "id": "yZzLJwqAiE57",
        "outputId": "03ac25c5-e940-4a59-806b-1f4ecc296fe1"
      },
      "execution_count": 35,
      "outputs": [
        {
          "name": "stdout",
          "output_type": "stream",
          "text": [
            "Enter the first number : 28\n",
            "Enter the second number : 18\n"
          ]
        }
      ]
    },
    {
      "cell_type": "code",
      "source": [
        "print(b,a)"
      ],
      "metadata": {
        "colab": {
          "base_uri": "https://localhost:8080/"
        },
        "id": "SdvXa1SVjS45",
        "outputId": "53662c95-7290-4a53-f2bc-3a178cbfd5f7"
      },
      "execution_count": 36,
      "outputs": [
        {
          "output_type": "stream",
          "name": "stdout",
          "text": [
            "18 28\n"
          ]
        }
      ]
    },
    {
      "cell_type": "code",
      "source": [],
      "metadata": {
        "id": "0BIxh96Bja62"
      },
      "execution_count": null,
      "outputs": []
    }
  ]
}