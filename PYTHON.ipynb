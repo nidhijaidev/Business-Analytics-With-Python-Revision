{
  "nbformat": 4,
  "nbformat_minor": 0,
  "metadata": {
    "colab": {
      "provenance": []
    },
    "kernelspec": {
      "name": "python3",
      "display_name": "Python 3"
    },
    "language_info": {
      "name": "python"
    }
  },
  "cells": [
    {
      "cell_type": "code",
      "execution_count": 1,
      "metadata": {
        "colab": {
          "base_uri": "https://localhost:8080/"
        },
        "id": "llzCiqpmuWZ-",
        "outputId": "b2dd4d0b-6e8e-4628-e483-9b75ca56897f"
      },
      "outputs": [
        {
          "output_type": "execute_result",
          "data": {
            "text/plain": [
              "5"
            ]
          },
          "metadata": {},
          "execution_count": 1
        }
      ],
      "source": [
        "x=\"NIDHI\"\n",
        "len(x)"
      ]
    },
    {
      "cell_type": "code",
      "source": [
        "x=[\"JOHN\" ,\"MARY\" ,\"DAVID\" ,\"ADAMS\"]"
      ],
      "metadata": {
        "id": "fPrjoWV1vBU0"
      },
      "execution_count": 2,
      "outputs": []
    },
    {
      "cell_type": "code",
      "source": [
        "y=[1, \"NIDHI\", 20, \"28.12.2002\", \"PARIS\" ]"
      ],
      "metadata": {
        "id": "10L4EwRdwdiS"
      },
      "execution_count": 4,
      "outputs": []
    },
    {
      "cell_type": "code",
      "source": [
        "type(y)"
      ],
      "metadata": {
        "colab": {
          "base_uri": "https://localhost:8080/"
        },
        "id": "aPzF-M1rwyDU",
        "outputId": "0d34f2e5-2df5-463b-8eef-c50bec9b367f"
      },
      "execution_count": 5,
      "outputs": [
        {
          "output_type": "execute_result",
          "data": {
            "text/plain": [
              "list"
            ]
          },
          "metadata": {},
          "execution_count": 5
        }
      ]
    },
    {
      "cell_type": "code",
      "source": [
        "y[0]"
      ],
      "metadata": {
        "colab": {
          "base_uri": "https://localhost:8080/"
        },
        "id": "7RlZY4zGw5x3",
        "outputId": "f4da9863-c10e-46f2-97d5-621851352b62"
      },
      "execution_count": 6,
      "outputs": [
        {
          "output_type": "execute_result",
          "data": {
            "text/plain": [
              "1"
            ]
          },
          "metadata": {},
          "execution_count": 6
        }
      ]
    },
    {
      "cell_type": "code",
      "source": [
        "y[-1]"
      ],
      "metadata": {
        "colab": {
          "base_uri": "https://localhost:8080/",
          "height": 36
        },
        "id": "-IBAVTvcw8vv",
        "outputId": "ee47af09-a591-44fc-84fa-8cacf4accda0"
      },
      "execution_count": 7,
      "outputs": [
        {
          "output_type": "execute_result",
          "data": {
            "text/plain": [
              "'PARIS'"
            ],
            "application/vnd.google.colaboratory.intrinsic+json": {
              "type": "string"
            }
          },
          "metadata": {},
          "execution_count": 7
        }
      ]
    },
    {
      "cell_type": "code",
      "source": [
        "z=[28, 12, 18, 22, 30, 88, 120, 122, 98, 188]"
      ],
      "metadata": {
        "id": "dUXmiPHoxewq"
      },
      "execution_count": 8,
      "outputs": []
    },
    {
      "cell_type": "code",
      "source": [
        "z[0:1]"
      ],
      "metadata": {
        "colab": {
          "base_uri": "https://localhost:8080/"
        },
        "id": "aLgAtjHcyvcB",
        "outputId": "f29dddf5-f1ad-449b-f821-357f4c4045ea"
      },
      "execution_count": 9,
      "outputs": [
        {
          "output_type": "execute_result",
          "data": {
            "text/plain": [
              "[28]"
            ]
          },
          "metadata": {},
          "execution_count": 9
        }
      ]
    },
    {
      "cell_type": "code",
      "source": [
        "z[0:5]"
      ],
      "metadata": {
        "colab": {
          "base_uri": "https://localhost:8080/"
        },
        "id": "zqJUBVd5yxWz",
        "outputId": "655387b8-adf3-4810-bbfe-641c149c68c2"
      },
      "execution_count": 10,
      "outputs": [
        {
          "output_type": "execute_result",
          "data": {
            "text/plain": [
              "[28, 12, 18, 22, 30]"
            ]
          },
          "metadata": {},
          "execution_count": 10
        }
      ]
    },
    {
      "cell_type": "code",
      "source": [
        "z[-3:]"
      ],
      "metadata": {
        "colab": {
          "base_uri": "https://localhost:8080/"
        },
        "id": "ffCmUbh-y39k",
        "outputId": "f0c15333-1641-46b8-953f-fa6258458cce"
      },
      "execution_count": 13,
      "outputs": [
        {
          "output_type": "execute_result",
          "data": {
            "text/plain": [
              "[122, 98, 188]"
            ]
          },
          "metadata": {},
          "execution_count": 13
        }
      ]
    },
    {
      "cell_type": "code",
      "source": [
        "z[7:]"
      ],
      "metadata": {
        "colab": {
          "base_uri": "https://localhost:8080/"
        },
        "id": "9zgRnqMVzFhZ",
        "outputId": "b3859ac8-1284-4d07-d1ca-873988baa9d8"
      },
      "execution_count": 14,
      "outputs": [
        {
          "output_type": "execute_result",
          "data": {
            "text/plain": [
              "[122, 98, 188]"
            ]
          },
          "metadata": {},
          "execution_count": 14
        }
      ]
    },
    {
      "cell_type": "code",
      "source": [
        "x=[28, 12, 18, 22, 30, 88, 120, 122, 98, 188]"
      ],
      "metadata": {
        "id": "RNqkRF6J0ibQ"
      },
      "execution_count": 15,
      "outputs": []
    },
    {
      "cell_type": "code",
      "source": [
        "x[0]=20"
      ],
      "metadata": {
        "id": "T_UKaC5_0lMd"
      },
      "execution_count": 16,
      "outputs": []
    },
    {
      "cell_type": "code",
      "source": [
        "x"
      ],
      "metadata": {
        "colab": {
          "base_uri": "https://localhost:8080/"
        },
        "id": "1IXWDMQy0zIY",
        "outputId": "1973b18d-9540-4420-8ab6-d602d5510bdd"
      },
      "execution_count": 17,
      "outputs": [
        {
          "output_type": "execute_result",
          "data": {
            "text/plain": [
              "[20, 12, 18, 22, 30, 88, 120, 122, 98, 188]"
            ]
          },
          "metadata": {},
          "execution_count": 17
        }
      ]
    },
    {
      "cell_type": "code",
      "source": [
        "x=[1, \"NIDHI\", 20, \"28.12.2002\", \"PARIS\" ]"
      ],
      "metadata": {
        "id": "V2__8arS1ZH4"
      },
      "execution_count": 18,
      "outputs": []
    },
    {
      "cell_type": "code",
      "source": [
        "x[-1]=\"RAJAGIRI\""
      ],
      "metadata": {
        "id": "zQi3r6qR2XiQ"
      },
      "execution_count": 20,
      "outputs": []
    },
    {
      "cell_type": "code",
      "source": [
        "x"
      ],
      "metadata": {
        "colab": {
          "base_uri": "https://localhost:8080/"
        },
        "id": "I1Ig8A--2etl",
        "outputId": "4f693990-7a63-4248-8232-994dde0df7eb"
      },
      "execution_count": 21,
      "outputs": [
        {
          "output_type": "execute_result",
          "data": {
            "text/plain": [
              "[1, 'NIDHI', 20, '28.12.2002', 'RAJAGIRI']"
            ]
          },
          "metadata": {},
          "execution_count": 21
        }
      ]
    },
    {
      "cell_type": "code",
      "source": [
        "x= [3, 6, 9, 12]\n",
        "x.append(69)"
      ],
      "metadata": {
        "id": "ctcoTYTu2hn2"
      },
      "execution_count": 22,
      "outputs": []
    },
    {
      "cell_type": "code",
      "source": [
        "x"
      ],
      "metadata": {
        "colab": {
          "base_uri": "https://localhost:8080/"
        },
        "id": "q3-8YrJO32r8",
        "outputId": "734b6dfd-d17e-4898-860a-b635907ac318"
      },
      "execution_count": 23,
      "outputs": [
        {
          "output_type": "execute_result",
          "data": {
            "text/plain": [
              "[3, 6, 9, 12, 69]"
            ]
          },
          "metadata": {},
          "execution_count": 23
        }
      ]
    },
    {
      "cell_type": "code",
      "source": [
        "X=[]\n",
        "for n in range(4):\n",
        "  n=input(\"ENTER A NAME : \")\n",
        "  X.append(n)\n",
        "  print(X)"
      ],
      "metadata": {
        "colab": {
          "base_uri": "https://localhost:8080/"
        },
        "id": "gtSzXQfN33wk",
        "outputId": "db8f522b-015e-4f3c-b564-277dd2de8c37"
      },
      "execution_count": 28,
      "outputs": [
        {
          "output_type": "stream",
          "name": "stdout",
          "text": [
            "ENTER A NAME : NIDHI\n",
            "['NIDHI']\n",
            "ENTER A NAME : TIA\n",
            "['NIDHI', 'TIA']\n",
            "ENTER A NAME : ENITTA\n",
            "['NIDHI', 'TIA', 'ENITTA']\n",
            "ENTER A NAME : PAARU\n",
            "['NIDHI', 'TIA', 'ENITTA', 'PAARU']\n"
          ]
        }
      ]
    },
    {
      "cell_type": "code",
      "source": [
        "x=[28, 12, 36, 20]\n",
        "y=x.copy()\n",
        "print(y)"
      ],
      "metadata": {
        "colab": {
          "base_uri": "https://localhost:8080/"
        },
        "id": "nk7bIcim5291",
        "outputId": "468b2c8a-db83-41a2-b168-e6ae3a96bab0"
      },
      "execution_count": 29,
      "outputs": [
        {
          "output_type": "stream",
          "name": "stdout",
          "text": [
            "[28, 12, 36, 20]\n"
          ]
        }
      ]
    },
    {
      "cell_type": "code",
      "source": [
        "x=[\"JOHN\", \"MARY\", \"DAVID\", \"ADAMS\"]\n",
        "y=[\"NIDHI\", \"TIA\"]\n",
        "x.extend(y)\n",
        "print(x)"
      ],
      "metadata": {
        "colab": {
          "base_uri": "https://localhost:8080/"
        },
        "id": "77BVEK9N9cI3",
        "outputId": "77c32b36-4bf8-49c6-8e5a-1884c01fbed1"
      },
      "execution_count": 30,
      "outputs": [
        {
          "output_type": "stream",
          "name": "stdout",
          "text": [
            "['JOHN', 'MARY', 'DAVID', 'ADAMS', 'NIDHI', 'TIA']\n"
          ]
        }
      ]
    },
    {
      "cell_type": "code",
      "source": [
        "x.count(\"DAVID\")"
      ],
      "metadata": {
        "colab": {
          "base_uri": "https://localhost:8080/"
        },
        "id": "_5NOGIsu_Mpi",
        "outputId": "ab522400-6033-4ab3-bba2-477484a61d7f"
      },
      "execution_count": 31,
      "outputs": [
        {
          "output_type": "execute_result",
          "data": {
            "text/plain": [
              "1"
            ]
          },
          "metadata": {},
          "execution_count": 31
        }
      ]
    },
    {
      "cell_type": "code",
      "source": [
        "x = [\"NIDHI\", \"TIA\", \"PAARA\", \"ENI\", \"RID\", \"ANGELO\"]\n",
        "x[:3]=[\"PANDA\", \"FELIX\"]\n",
        "print(x)"
      ],
      "metadata": {
        "colab": {
          "base_uri": "https://localhost:8080/"
        },
        "id": "ER2tdW-w_UqG",
        "outputId": "622d49e1-002d-4dda-879a-06bb89951aea"
      },
      "execution_count": 34,
      "outputs": [
        {
          "output_type": "stream",
          "name": "stdout",
          "text": [
            "['PANDA', 'FELIX', 'ENI', 'RID', 'ANGELO']\n"
          ]
        }
      ]
    },
    {
      "cell_type": "code",
      "source": [
        "x.insert(2, \"RAJESH\")"
      ],
      "metadata": {
        "id": "EbsazFvSA0cY"
      },
      "execution_count": 35,
      "outputs": []
    },
    {
      "cell_type": "code",
      "source": [
        "x"
      ],
      "metadata": {
        "colab": {
          "base_uri": "https://localhost:8080/"
        },
        "id": "mP-9G_ObB0U2",
        "outputId": "e99c5fc8-f104-4cd5-d17a-28ab4f433dcc"
      },
      "execution_count": 36,
      "outputs": [
        {
          "output_type": "execute_result",
          "data": {
            "text/plain": [
              "['PANDA', 'FELIX', 'RAJESH', 'ENI', 'RID', 'ANGELO']"
            ]
          },
          "metadata": {},
          "execution_count": 36
        }
      ]
    },
    {
      "cell_type": "code",
      "source": [
        "x.remove(\"RAJESH\")"
      ],
      "metadata": {
        "id": "ZdAmHqxXB1rV"
      },
      "execution_count": 37,
      "outputs": []
    },
    {
      "cell_type": "code",
      "source": [
        "x"
      ],
      "metadata": {
        "colab": {
          "base_uri": "https://localhost:8080/"
        },
        "id": "sx_4i_5_CRLK",
        "outputId": "b987683a-22c6-449e-bc75-298719fc7a4e"
      },
      "execution_count": 38,
      "outputs": [
        {
          "output_type": "execute_result",
          "data": {
            "text/plain": [
              "['PANDA', 'FELIX', 'ENI', 'RID', 'ANGELO']"
            ]
          },
          "metadata": {},
          "execution_count": 38
        }
      ]
    },
    {
      "cell_type": "code",
      "source": [
        "x = [\"NIDHI\", \"PANDA\", \"TIA\", \"FELIX\"]\n",
        "del x[3]\n",
        "print(x)"
      ],
      "metadata": {
        "colab": {
          "base_uri": "https://localhost:8080/"
        },
        "id": "tVJEhB9yCS4s",
        "outputId": "cf223c22-b38c-4a66-8422-3abc66267483"
      },
      "execution_count": 40,
      "outputs": [
        {
          "output_type": "stream",
          "name": "stdout",
          "text": [
            "['NIDHI', 'PANDA', 'TIA']\n"
          ]
        }
      ]
    },
    {
      "cell_type": "code",
      "source": [
        "del x[0:2]"
      ],
      "metadata": {
        "id": "pzBdmx51DYc8"
      },
      "execution_count": 41,
      "outputs": []
    },
    {
      "cell_type": "code",
      "source": [
        "x"
      ],
      "metadata": {
        "colab": {
          "base_uri": "https://localhost:8080/"
        },
        "id": "9PZRwwvIDheB",
        "outputId": "94a1b5a7-0fb9-4a9a-c355-756d3cd95545"
      },
      "execution_count": 42,
      "outputs": [
        {
          "output_type": "execute_result",
          "data": {
            "text/plain": [
              "['TIA']"
            ]
          },
          "metadata": {},
          "execution_count": 42
        }
      ]
    },
    {
      "cell_type": "code",
      "source": [],
      "metadata": {
        "id": "1-GjP7INDiQV"
      },
      "execution_count": null,
      "outputs": []
    }
  ]
}