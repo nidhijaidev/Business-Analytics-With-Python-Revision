{
  "nbformat": 4,
  "nbformat_minor": 0,
  "metadata": {
    "colab": {
      "provenance": []
    },
    "kernelspec": {
      "name": "python3",
      "display_name": "Python 3"
    },
    "language_info": {
      "name": "python"
    }
  },
  "cells": [
    {
      "cell_type": "code",
      "execution_count": 2,
      "metadata": {
        "colab": {
          "base_uri": "https://localhost:8080/"
        },
        "id": "NYHE74LFyUUX",
        "outputId": "5dcfe28e-bc55-4a39-dc59-92bfd65cf47a"
      },
      "outputs": [
        {
          "output_type": "stream",
          "name": "stdout",
          "text": [
            "This is \"python\" programming\n"
          ]
        }
      ],
      "source": [
        "x = \"This is \\\"python\\\" programming\"\n",
        "print(x)"
      ]
    },
    {
      "cell_type": "code",
      "source": [
        "x = \"He\\'s is a doctor\"\n",
        "print(x)"
      ],
      "metadata": {
        "colab": {
          "base_uri": "https://localhost:8080/"
        },
        "id": "XcPBpTcGyirT",
        "outputId": "38edc69f-7ccc-4385-aad9-b2ecc0cf8c19"
      },
      "execution_count": 3,
      "outputs": [
        {
          "output_type": "stream",
          "name": "stdout",
          "text": [
            "He's is a doctor\n"
          ]
        }
      ]
    },
    {
      "cell_type": "code",
      "source": [
        "print(\"\\\"Nidhi\\\" Jaidev\")\n"
      ],
      "metadata": {
        "colab": {
          "base_uri": "https://localhost:8080/"
        },
        "id": "EPgAKgGXy_GK",
        "outputId": "499f6bcd-4ca3-4c14-c6f1-9df41f124fc6"
      },
      "execution_count": 6,
      "outputs": [
        {
          "output_type": "stream",
          "name": "stdout",
          "text": [
            "\"Nidhi\" Jaidev\n"
          ]
        }
      ]
    },
    {
      "cell_type": "code",
      "source": [
        "print(\"He\\'s a doctor\")"
      ],
      "metadata": {
        "colab": {
          "base_uri": "https://localhost:8080/"
        },
        "id": "NBN8f-e8zzRZ",
        "outputId": "c3127dca-45b6-4f6b-fab1-f903d29db365"
      },
      "execution_count": 7,
      "outputs": [
        {
          "output_type": "stream",
          "name": "stdout",
          "text": [
            "He's a doctor\n"
          ]
        }
      ]
    },
    {
      "cell_type": "code",
      "source": [
        "print(\"He \\n doctor\")"
      ],
      "metadata": {
        "colab": {
          "base_uri": "https://localhost:8080/"
        },
        "id": "6Tk3_to61A9y",
        "outputId": "3ff56e83-fc77-4f29-9082-7d89650493fb"
      },
      "execution_count": 9,
      "outputs": [
        {
          "output_type": "stream",
          "name": "stdout",
          "text": [
            "He \n",
            " doctor\n"
          ]
        }
      ]
    },
    {
      "cell_type": "code",
      "source": [
        "print(\"NIDHI \\n TIA\")"
      ],
      "metadata": {
        "colab": {
          "base_uri": "https://localhost:8080/"
        },
        "id": "wDHJZTQO1Gyp",
        "outputId": "72baa5c3-8192-4a04-e77e-9fe1f59207fa"
      },
      "execution_count": 10,
      "outputs": [
        {
          "output_type": "stream",
          "name": "stdout",
          "text": [
            "NIDHI \n",
            " TIA\n"
          ]
        }
      ]
    },
    {
      "cell_type": "code",
      "source": [
        "x = [\"Nidhi\", \"Tia\", \"Eni\", \"Paars\", \"Sugar mommy\", \"Anglo\"]\n",
        "x.insert(2,\"EX\")\n",
        "print(x)"
      ],
      "metadata": {
        "colab": {
          "base_uri": "https://localhost:8080/"
        },
        "id": "sFo2GJpX1WCx",
        "outputId": "b7c55d1e-48d9-4100-98d3-895a32a7ea4e"
      },
      "execution_count": 25,
      "outputs": [
        {
          "output_type": "stream",
          "name": "stdout",
          "text": [
            "['Nidhi', 'Tia', 'EX', 'Eni', 'Paars', 'Sugar mommy', 'Anglo']\n"
          ]
        }
      ]
    },
    {
      "cell_type": "code",
      "source": [
        "def nidhi():\n",
        "  y = int(input(\"Enter Index\"))\n",
        "  n = input(\"Enter a Name\")\n",
        "  x.insert(y,n)"
      ],
      "metadata": {
        "id": "NmkT9H311eTv"
      },
      "execution_count": 26,
      "outputs": []
    },
    {
      "cell_type": "markdown",
      "source": [],
      "metadata": {
        "id": "7B5f1OvGDAN5"
      }
    },
    {
      "cell_type": "code",
      "source": [
        "nidhi()"
      ],
      "metadata": {
        "colab": {
          "base_uri": "https://localhost:8080/"
        },
        "id": "6d01fOgI-UG4",
        "outputId": "819c91f5-0694-44f5-d293-cb5199575ae3"
      },
      "execution_count": 27,
      "outputs": [
        {
          "name": "stdout",
          "output_type": "stream",
          "text": [
            "Enter Index28\n",
            "Enter a NameNidhi\n"
          ]
        }
      ]
    },
    {
      "cell_type": "code",
      "source": [
        "def maths():\n",
        "  x = int(input(\"enter first value\"))\n",
        "  y = int(input(\"enter second value\"))\n",
        "  print(x+y)\n"
      ],
      "metadata": {
        "id": "R_R5yOXt_yZ1"
      },
      "execution_count": 32,
      "outputs": []
    },
    {
      "cell_type": "code",
      "source": [
        "maths()"
      ],
      "metadata": {
        "colab": {
          "base_uri": "https://localhost:8080/"
        },
        "id": "BYQvKAhIDeRs",
        "outputId": "9f5064c7-cbd9-4285-e799-2a3dfeaa2af6"
      },
      "execution_count": 33,
      "outputs": [
        {
          "output_type": "stream",
          "name": "stdout",
          "text": [
            "enter first value28\n",
            "enter second value10\n",
            "38\n"
          ]
        }
      ]
    },
    {
      "cell_type": "code",
      "source": [
        "def maths(a,b):\n",
        "  print(a+b)"
      ],
      "metadata": {
        "id": "9xb1_TWcDfUk"
      },
      "execution_count": 34,
      "outputs": []
    },
    {
      "cell_type": "code",
      "source": [
        "x = int(input(\"enter first value\"))\n",
        "y = int(input(\"enter second value\"))\n",
        "maths(x,y)"
      ],
      "metadata": {
        "colab": {
          "base_uri": "https://localhost:8080/"
        },
        "id": "UUGElD4_EZQ3",
        "outputId": "580025f9-5c0c-47d5-831b-d25c3c63f473"
      },
      "execution_count": 35,
      "outputs": [
        {
          "output_type": "stream",
          "name": "stdout",
          "text": [
            "enter first value20\n",
            "enter second value22\n",
            "42\n"
          ]
        }
      ]
    },
    {
      "cell_type": "code",
      "source": [
        "def sub(a,b):\n",
        "  print(a-b)\n"
      ],
      "metadata": {
        "id": "5pZ-vtXHEq9I"
      },
      "execution_count": 36,
      "outputs": []
    },
    {
      "cell_type": "code",
      "source": [
        "def subtract():\n",
        "  x = int(input(\"enter first value\"))\n",
        "  y = int(input(\"enter second value\"))\n",
        "  maths(x-y)"
      ],
      "metadata": {
        "id": "RQkI6iuJHdZ_"
      },
      "execution_count": 40,
      "outputs": []
    },
    {
      "cell_type": "code",
      "source": [
        "1"
      ],
      "metadata": {
        "id": "19Tb_No6Hs3U"
      },
      "execution_count": null,
      "outputs": []
    }
  ]
}