{
  "nbformat": 4,
  "nbformat_minor": 0,
  "metadata": {
    "colab": {
      "provenance": []
    },
    "kernelspec": {
      "name": "python3",
      "display_name": "Python 3"
    },
    "language_info": {
      "name": "python"
    }
  },
  "cells": [
    {
      "cell_type": "code",
      "execution_count": 9,
      "metadata": {
        "id": "AhvnsSwaZdJd"
      },
      "outputs": [],
      "source": [
        "def m(x):\n",
        "  y=sum(x)\n",
        "  print(y)"
      ]
    },
    {
      "cell_type": "code",
      "source": [
        "x = [28, 10, 12, 18, 8, 68, 42, 20, 22, 88]\n",
        "m(x)"
      ],
      "metadata": {
        "colab": {
          "base_uri": "https://localhost:8080/"
        },
        "id": "Yr2hBmZDbWTg",
        "outputId": "e8eb4561-cfeb-4ec4-8463-e90e7ebf9d67"
      },
      "execution_count": 10,
      "outputs": [
        {
          "output_type": "stream",
          "name": "stdout",
          "text": [
            "316\n"
          ]
        }
      ]
    },
    {
      "cell_type": "code",
      "source": [
        "def  ABC(X):\n",
        "  print(sum(x))"
      ],
      "metadata": {
        "id": "PocYPhfodas9"
      },
      "execution_count": 11,
      "outputs": []
    },
    {
      "cell_type": "code",
      "source": [
        "ABC(x)"
      ],
      "metadata": {
        "colab": {
          "base_uri": "https://localhost:8080/"
        },
        "id": "bpd-FcrGec0M",
        "outputId": "b2c59099-0927-49c8-800b-e4e0c003f07f"
      },
      "execution_count": 12,
      "outputs": [
        {
          "output_type": "stream",
          "name": "stdout",
          "text": [
            "316\n"
          ]
        }
      ]
    },
    {
      "cell_type": "code",
      "source": [
        "def abc():\n",
        "  x = [2, 4, 6, 8, 10, 11]\n",
        "  for num in x:\n",
        "    if num % 2==1:\n",
        "      print(\"odd numbers\", num)\n",
        "    for num in x:\n",
        "      if num % 2==0:\n",
        "        print(\"even numbers\", num)"
      ],
      "metadata": {
        "id": "JFQykM03ekIU"
      },
      "execution_count": 20,
      "outputs": []
    },
    {
      "cell_type": "code",
      "source": [
        "abc()"
      ],
      "metadata": {
        "colab": {
          "base_uri": "https://localhost:8080/"
        },
        "id": "EqrXJBwogIbc",
        "outputId": "d440fee5-6af9-4c9a-94de-c0095d95fb11"
      },
      "execution_count": 21,
      "outputs": [
        {
          "output_type": "stream",
          "name": "stdout",
          "text": [
            "even numbers 2\n",
            "even numbers 4\n",
            "even numbers 6\n",
            "even numbers 8\n",
            "even numbers 10\n",
            "even numbers 2\n",
            "even numbers 4\n",
            "even numbers 6\n",
            "even numbers 8\n",
            "even numbers 10\n",
            "even numbers 2\n",
            "even numbers 4\n",
            "even numbers 6\n",
            "even numbers 8\n",
            "even numbers 10\n",
            "even numbers 2\n",
            "even numbers 4\n",
            "even numbers 6\n",
            "even numbers 8\n",
            "even numbers 10\n",
            "even numbers 2\n",
            "even numbers 4\n",
            "even numbers 6\n",
            "even numbers 8\n",
            "even numbers 10\n",
            "odd numbers 11\n",
            "even numbers 2\n",
            "even numbers 4\n",
            "even numbers 6\n",
            "even numbers 8\n",
            "even numbers 10\n"
          ]
        }
      ]
    },
    {
      "cell_type": "code",
      "source": [
        "x=(\"Python is a high-level, general-purpose programming language\")\n",
        "y=\" \"\n",
        "vowels=[\"a\", \"e\", \"i\", \"o\", \"u\"]\n",
        "for i in range(len(x)):\n",
        "  if x[i] not in vowels:\n",
        "    y=y+x[i]\n",
        "print(y)"
      ],
      "metadata": {
        "colab": {
          "base_uri": "https://localhost:8080/"
        },
        "id": "PsulW-JigJZs",
        "outputId": "e18bb375-2412-4472-90f8-36ceb8d6f33a"
      },
      "execution_count": 43,
      "outputs": [
        {
          "output_type": "stream",
          "name": "stdout",
          "text": [
            " Pythn s  hgh-lvl, gnrl-prps prgrmmng lngg\n"
          ]
        }
      ]
    }
  ]
}